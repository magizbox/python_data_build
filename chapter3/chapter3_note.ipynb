{
 "cells": [
  {
   "cell_type": "markdown",
   "metadata": {},
   "source": [
    "# Chapter 3: IPython\n",
    "# An interactive Computing and Development Environment\n",
    "---------\n"
   ]
  },
  {
   "cell_type": "markdown",
   "metadata": {},
   "source": [
    "## IPython basic"
   ]
  },
  {
   "cell_type": "code",
   "execution_count": 36,
   "metadata": {
    "collapsed": true
   },
   "outputs": [],
   "source": [
    "import numpy as np\n",
    "import pandas as pd\n",
    "import matplotlib.pyplot as plt"
   ]
  },
  {
   "cell_type": "code",
   "execution_count": 37,
   "metadata": {
    "collapsed": false
   },
   "outputs": [
    {
     "data": {
      "text/plain": [
       "{0: 1.1223853116662184,\n",
       " 1: -0.3692035913922635,\n",
       " 2: -0.5813181853474677,\n",
       " 3: -0.4871844182477777,\n",
       " 4: 0.9541142634919332,\n",
       " 5: 0.39061161711148945,\n",
       " 6: -1.7483533484319194}"
      ]
     },
     "execution_count": 37,
     "metadata": {},
     "output_type": "execute_result"
    }
   ],
   "source": [
    "data = {i : np.random.randn() for i in range(7)}\n",
    "data"
   ]
  },
  {
   "cell_type": "markdown",
   "metadata": {},
   "source": [
    "## Tab completion"
   ]
  },
  {
   "cell_type": "markdown",
   "metadata": {},
   "source": [
    "While entering expressions in the shell, pressing **Tab** will search the namespace for any variables (objects, functions, etc.) matching the characters you have typed so far:"
   ]
  },
  {
   "cell_type": "code",
   "execution_count": 38,
   "metadata": {
    "collapsed": true
   },
   "outputs": [],
   "source": [
    "an_apple = 15\n",
    "an_apple = 30"
   ]
  },
  {
   "cell_type": "markdown",
   "metadata": {},
   "source": [
    "Using **tab** to show the method of an object."
   ]
  },
  {
   "cell_type": "code",
   "execution_count": 39,
   "metadata": {
    "collapsed": false
   },
   "outputs": [
    {
     "data": {
      "text/plain": [
       "2"
      ]
     },
     "execution_count": 39,
     "metadata": {},
     "output_type": "execute_result"
    }
   ],
   "source": [
    "b = [1, 2, 3]\n",
    "b.append(3)\n",
    "b.count(3)"
   ]
  },
  {
   "cell_type": "markdown",
   "metadata": {},
   "source": [
    "**“private” methods** : using underscore after dot and press **Tab**"
   ]
  },
  {
   "cell_type": "code",
   "execution_count": 40,
   "metadata": {
    "collapsed": false
   },
   "outputs": [
    {
     "data": {
      "text/plain": [
       "\"list() -> new empty list\\nlist(iterable) -> new list initialized from iterable's items\""
      ]
     },
     "execution_count": 40,
     "metadata": {},
     "output_type": "execute_result"
    }
   ],
   "source": [
    "b.__doc__"
   ]
  },
  {
   "cell_type": "markdown",
   "metadata": {},
   "source": [
    "using **Tab** to show the path of directory"
   ]
  },
  {
   "cell_type": "code",
   "execution_count": 41,
   "metadata": {
    "collapsed": true
   },
   "outputs": [],
   "source": [
    "path = '/home/khanhlq/PycharmProjects/python_data_build/chapter3/'"
   ]
  },
  {
   "cell_type": "markdown",
   "metadata": {},
   "source": [
    "## Introspection"
   ]
  },
  {
   "cell_type": "code",
   "execution_count": 42,
   "metadata": {
    "collapsed": false
   },
   "outputs": [],
   "source": [
    "b = pd.DataFrame({\n",
    "        \"name\": ['john', 'mary', 'anna'],\n",
    "        \"age\": [25, 23, 19]\n",
    "    })\n",
    "b?"
   ]
  },
  {
   "cell_type": "markdown",
   "metadata": {},
   "source": [
    "```python\n",
    "Type:        DataFrame\n",
    "String form:\n",
    "   age  name\n",
    "0   25  john\n",
    "1   23  mary\n",
    "2   19  anna\n",
    "Length:      3\n",
    "File:        ~/anaconda2/lib/python2.7/site-packages/pandas/core/frame.py\n",
    "Docstring:  \n",
    "Two-dimensional size-mutable, potentially heterogeneous tabular data\n",
    "structure with labeled axes (rows and columns). Arithmetic operations\n",
    "align on both row and column labels. Can be thought of as a dict-like\n",
    "container for Series objects. The primary pandas data structure\n",
    "\n",
    "Parameters\n",
    "----------\n",
    "data : numpy ndarray (structured or homogeneous), dict, or DataFrame\n",
    "    Dict can contain Series, arrays, constants, or list-like objects\n",
    "index : Index or array-like\n",
    "    Index to use for resulting frame. Will default to np.arange(n) if\n",
    "    no indexing information part of input data and no index provided\n",
    "columns : Index or array-like\n",
    "    Column labels to use for resulting frame. Will default to\n",
    "    np.arange(n) if no column labels are provided\n",
    "dtype : dtype, default None\n",
    "    Data type to force, otherwise infer\n",
    "copy : boolean, default False\n",
    "    Copy data from inputs. Only affects DataFrame / 2d ndarray input\n",
    "\n",
    "Examples\n",
    "--------\n",
    ">>> d = {'col1': ts1, 'col2': ts2}\n",
    ">>> df = DataFrame(data=d, index=index)\n",
    ">>> df2 = DataFrame(np.random.randn(10, 5))\n",
    ">>> df3 = DataFrame(np.random.randn(10, 5),\n",
    "...                 columns=['a', 'b', 'c', 'd', 'e'])\n",
    "\n",
    "See also\n",
    "--------\n",
    "DataFrame.from_records : constructor from tuples, also record arrays\n",
    "DataFrame.from_dict : from dicts of Series, arrays, or dicts\n",
    "DataFrame.from_items : from sequence of (key, value) pairs\n",
    "pandas.read_csv, pandas.read_table, pandas.read_clipboard\n",
    "```"
   ]
  },
  {
   "cell_type": "code",
   "execution_count": 43,
   "metadata": {
    "collapsed": true
   },
   "outputs": [],
   "source": [
    "a = 1\n",
    "a?"
   ]
  },
  {
   "cell_type": "markdown",
   "metadata": {},
   "source": [
    "```python\n",
    "Type:        int\n",
    "String form: 1\n",
    "Docstring:  \n",
    "int(x=0) -> int or long\n",
    "int(x, base=10) -> int or long\n",
    "\n",
    "Convert a number or string to an integer, or return 0 if no arguments\n",
    "are given.  If x is floating point, the conversion truncates towards zero.\n",
    "If x is outside the integer range, the function returns a long instead.\n",
    "\n",
    "If x is not a number or if base is given, then x must be a string or\n",
    "Unicode object representing an integer literal in the given base.  The\n",
    "literal can be preceded by '+' or '-' and be surrounded by whitespace.\n",
    "The base defaults to 10.  Valid bases are 0 and 2-36.  Base 0 means to\n",
    "interpret the base from the string as an integer literal.\n",
    ">>> int('0b100', base=0)\n",
    "4\n",
    "```"
   ]
  },
  {
   "cell_type": "code",
   "execution_count": 44,
   "metadata": {
    "collapsed": true
   },
   "outputs": [],
   "source": [
    "def add_numbers(a, b):\n",
    "    \"\"\"\n",
    "    Add two numbers\n",
    "    \n",
    "    Returns: the sum of two numbers\n",
    "    \"\"\"\n",
    "    return a + b\n",
    "add_numbers?"
   ]
  },
  {
   "cell_type": "markdown",
   "metadata": {},
   "source": [
    "```python\n",
    "Signature: add_numbers(a, b)\n",
    "Docstring:\n",
    "Add two numbers\n",
    "\n",
    "Returns: the sum of two numbers\n",
    "File:      ~/PycharmProjects/python_data_build/chapter3/<ipython-input-21-932640ba9f34>\n",
    "Type:      function\n",
    "```"
   ]
  },
  {
   "cell_type": "markdown",
   "metadata": {},
   "source": [
    "To watch source code, we use double question mark ??"
   ]
  },
  {
   "cell_type": "code",
   "execution_count": 45,
   "metadata": {
    "collapsed": true
   },
   "outputs": [],
   "source": [
    "pd.pivot_table??"
   ]
  },
  {
   "cell_type": "markdown",
   "metadata": {},
   "source": [
    "```python\n",
    "Signature: pd.pivot_table(data, values=None, index=None, columns=None, aggfunc='mean', fill_value=None, margins=False, dropna=True, margins_name='All')\n",
    "Source:   \n",
    "def pivot_table(data, values=None, index=None, columns=None, aggfunc='mean',\n",
    "                fill_value=None, margins=False, dropna=True,\n",
    "                margins_name='All'):\n",
    "    \"\"\"\n",
    "    Create a spreadsheet-style pivot table as a DataFrame. The levels in the\n",
    "    pivot table will be stored in MultiIndex objects (hierarchical indexes) on\n",
    "    the index and columns of the result DataFrame\n",
    "\n",
    "    Parameters\n",
    "    ----------\n",
    "    data : DataFrame\n",
    "    values : column to aggregate, optional\n",
    "    index : column, Grouper, array, or list of the previous\n",
    "        If an array is passed, it must be the same length as the data. The list\n",
    "        can contain any of the other types (except list).\n",
    "        Keys to group by on the pivot table index.  If an array is passed, it\n",
    "        is being used as the same manner as column values.\n",
    "    columns : column, Grouper, array, or list of the previous\n",
    "        If an array is passed, it must be the same length as the data. The list\n",
    "        can contain any of the other types (except list).\n",
    "        Keys to group by on the pivot table column.  If an array is passed, it\n",
    "        is being used as the same manner as column values.\n",
    "    aggfunc : function or list of functions, default numpy.mean\n",
    "        If list of functions passed, the resulting pivot table will have\n",
    "        hierarchical columns whose top level are the function names (inferred\n",
    "        from the function objects themselves)\n",
    "    fill_value : scalar, default None\n",
    "        Value to replace missing values with\n",
    "    margins : boolean, default False\n",
    "        Add all row / columns (e.g. for subtotal / grand totals)\n",
    "    dropna : boolean, default True\n",
    "        Do not include columns whose entries are all NaN\n",
    "    margins_name : string, default 'All'\n",
    "        Name of the row / column that will contain the totals\n",
    "        when margins is True.\n",
    "\n",
    "    Examples\n",
    "    --------\n",
    "    >>> df\n",
    "       A   B   C      D\n",
    "    0  foo one small  1\n",
    "    1  foo one large  2\n",
    "    2  foo one large  2\n",
    "    3  foo two small  3\n",
    "    4  foo two small  3\n",
    "    5  bar one large  4\n",
    "    6  bar one small  5\n",
    "    7  bar two small  6\n",
    "    8  bar two large  7\n",
    "\n",
    "    >>> table = pivot_table(df, values='D', index=['A', 'B'],\n",
    "    ...                     columns=['C'], aggfunc=np.sum)\n",
    "    >>> table\n",
    "              small  large\n",
    "    foo  one  1      4\n",
    "         two  6      NaN\n",
    "    bar  one  5      4\n",
    "         two  6      7\n",
    "\n",
    "    Returns\n",
    "    -------\n",
    "    table : DataFrame\n",
    "    \"\"\"\n",
    "    index = _convert_by(index)\n",
    "    columns = _convert_by(columns)\n",
    "\n",
    "    if isinstance(aggfunc, list):\n",
    "        pieces = []\n",
    "        keys = []\n",
    "        for func in aggfunc:\n",
    "            table = pivot_table(data, values=values, index=index,\n",
    "                                columns=columns,\n",
    "                                fill_value=fill_value, aggfunc=func,\n",
    "                                margins=margins)\n",
    "            pieces.append(table)\n",
    "            keys.append(func.__name__)\n",
    "        return concat(pieces, keys=keys, axis=1)\n",
    "\n",
    "    keys = index + columns\n",
    "\n",
    "    values_passed = values is not None\n",
    "    if values_passed:\n",
    "        if com.is_list_like(values):\n",
    "            values_multi = True\n",
    "            values = list(values)\n",
    "        else:\n",
    "            values_multi = False\n",
    "            values = [values]\n",
    "    else:\n",
    "        values = list(data.columns.drop(keys))\n",
    "\n",
    "    if values_passed:\n",
    "        to_filter = []\n",
    "        for x in keys + values:\n",
    "            if isinstance(x, Grouper):\n",
    "                x = x.key\n",
    "            try:\n",
    "                if x in data:\n",
    "                    to_filter.append(x)\n",
    "            except TypeError:\n",
    "                pass\n",
    "        if len(to_filter) < len(data.columns):\n",
    "            data = data[to_filter]\n",
    "\n",
    "    grouped = data.groupby(keys)\n",
    "    agged = grouped.agg(aggfunc)\n",
    "\n",
    "    table = agged\n",
    "    if table.index.nlevels > 1:\n",
    "        to_unstack = [agged.index.names[i] or i\n",
    "                      for i in range(len(index), len(keys))]\n",
    "        table = agged.unstack(to_unstack)\n",
    "\n",
    "    if not dropna:\n",
    "        try:\n",
    "            m = MultiIndex.from_arrays(cartesian_product(table.index.levels),\n",
    "                                       names=table.index.names)\n",
    "            table = table.reindex_axis(m, axis=0)\n",
    "        except AttributeError:\n",
    "            pass  # it's a single level\n",
    "\n",
    "        try:\n",
    "            m = MultiIndex.from_arrays(cartesian_product(table.columns.levels),\n",
    "                                       names=table.columns.names)\n",
    "            table = table.reindex_axis(m, axis=1)\n",
    "        except AttributeError:\n",
    "            pass  # it's a single level or a series\n",
    "\n",
    "    if isinstance(table, DataFrame):\n",
    "        if isinstance(table.columns, MultiIndex):\n",
    "            table = table.sortlevel(axis=1)\n",
    "        else:\n",
    "            table = table.sort_index(axis=1)\n",
    "\n",
    "    if fill_value is not None:\n",
    "        table = table.fillna(value=fill_value, downcast='infer')\n",
    "\n",
    "    if margins:\n",
    "        if dropna:\n",
    "            data = data[data.notnull().all(axis=1)]\n",
    "        table = _add_margins(table, data, values, rows=index,\n",
    "                             cols=columns, aggfunc=aggfunc,\n",
    "                             margins_name=margins_name)\n",
    "\n",
    "    # discard the top level\n",
    "    if values_passed and not values_multi and not table.empty:\n",
    "        table = table[values[0]]\n",
    "\n",
    "    if len(index) == 0 and len(columns) > 0:\n",
    "        table = table.T\n",
    "\n",
    "    return table\n",
    "File:      ~/anaconda2/lib/python2.7/site-packages/pandas/tools/pivot.py\n",
    "Type:      function\n",
    "```"
   ]
  },
  {
   "cell_type": "markdown",
   "metadata": {},
   "source": [
    "## The %run Command\n",
    "------"
   ]
  },
  {
   "cell_type": "code",
   "execution_count": 46,
   "metadata": {
    "collapsed": false
   },
   "outputs": [],
   "source": [
    "%run script.py"
   ]
  },
  {
   "cell_type": "markdown",
   "metadata": {},
   "source": [
    "The script is run in an empty namespace (with no imports or other variables defined)so that the behavior should be identical to running the program on the command lineusing python script.py. All of the variables (imports, functions, and globals) definedin the file (up until an exception, if any, is raised) will then be accessible in the IPythonshell:"
   ]
  },
  {
   "cell_type": "code",
   "execution_count": 47,
   "metadata": {
    "collapsed": false
   },
   "outputs": [
    {
     "data": {
      "text/plain": [
       "77"
      ]
     },
     "execution_count": 47,
     "metadata": {},
     "output_type": "execute_result"
    }
   ],
   "source": [
    "result"
   ]
  },
  {
   "cell_type": "markdown",
   "metadata": {},
   "source": [
    "### Python command line arguments\n",
    "We have a python file (sys_lab.py) using **sys library**\n",
    "```python\n",
    "import sys\n",
    "print sys.argv\n",
    "print len(sys.argv)\n",
    "```"
   ]
  },
  {
   "cell_type": "code",
   "execution_count": 48,
   "metadata": {
    "collapsed": false
   },
   "outputs": [
    {
     "name": "stdout",
     "output_type": "stream",
     "text": [
      "['sys_lab.py', '12', '89', \"'abc'\"]\n",
      "4\n"
     ]
    }
   ],
   "source": [
    "%run sys_lab.py 12 89 'abc'"
   ]
  },
  {
   "cell_type": "markdown",
   "metadata": {},
   "source": [
    "## Keyboard shortcut in IPthon (shell)"
   ]
  },
  {
   "cell_type": "markdown",
   "metadata": {},
   "source": [
    "| Command | Description |\n",
    "|---------|-------------|\n",
    "|Ctrl-P or up-arrow| Search backward in command history for commands starting with currently-entered text |\n",
    "|Ctrl-N or down-arrow | Search forward in command history for commands starting with currently-entered text |\n",
    "|Ctrl-R | Readline-style reverse history search (partial matching)|\n",
    "|Ctrl-Shift-V | Paste text from clipboard|\n",
    "|Ctrl-C | Interrupt currently-executing code|\n",
    "|Ctrl-A | Move cursor to beginning of line|\n",
    "|Ctrl-E | Move cursor to end of line|\n",
    "|Ctrl-K | Delete text from cursor until end of line|\n",
    "|Ctrl-U | Discard all text on current line|\n",
    "|Ctrl-F | Move cursor forward one character|\n",
    "|Ctrl-B | Move cursor back one character|\n",
    "|Ctrl-L |Clear screen|"
   ]
  },
  {
   "cell_type": "markdown",
   "metadata": {},
   "source": [
    "## Exceptions and Tracebacks\n",
    "If an exception is raised while %run-ing a script or executing any statement, IPython will by default print a full call stack trace (traceback) with a few lines of context around the position at each point in the stack."
   ]
  },
  {
   "cell_type": "code",
   "execution_count": 49,
   "metadata": {
    "collapsed": false
   },
   "outputs": [
    {
     "ename": "NameError",
     "evalue": "name 'pront' is not defined",
     "output_type": "error",
     "traceback": [
      "\u001b[0;31m---------------------------------------------------------------------------\u001b[0m",
      "\u001b[0;31mNameError\u001b[0m                                 Traceback (most recent call last)",
      "\u001b[0;32m<ipython-input-49-1bbbc7bb92fe>\u001b[0m in \u001b[0;36m<module>\u001b[0;34m()\u001b[0m\n\u001b[0;32m----> 1\u001b[0;31m \u001b[0mpront\u001b[0m\u001b[1;33m\u001b[0m\u001b[0m\n\u001b[0m",
      "\u001b[0;31mNameError\u001b[0m: name 'pront' is not defined"
     ]
    }
   ],
   "source": [
    "pront"
   ]
  },
  {
   "cell_type": "markdown",
   "metadata": {},
   "source": [
    "## Magic Commands\n",
    "----\n",
    "IPython has many special commands, known as “magic” commands, which are de-signed to faciliate common tasks and enable you to easily control the behavior of the IPython system. A magic command is any command prefixed by the the percent symbol%.\n",
    "\n",
    "For example:\n",
    "* **%timeit**: Run a statement multiple times to compute an emsemble average execution time. Useful fortiming code with very short execution time"
   ]
  },
  {
   "cell_type": "code",
   "execution_count": null,
   "metadata": {
    "collapsed": false
   },
   "outputs": [],
   "source": [
    "a = np.random.randn(100, 100)\n",
    "a"
   ]
  },
  {
   "cell_type": "code",
   "execution_count": null,
   "metadata": {
    "collapsed": false
   },
   "outputs": [],
   "source": [
    "%timeit np.dot(a, a)"
   ]
  },
  {
   "cell_type": "markdown",
   "metadata": {},
   "source": [
    "* **%quickref**: Display the IPython Quick Reference Card"
   ]
  },
  {
   "cell_type": "code",
   "execution_count": null,
   "metadata": {
    "collapsed": true
   },
   "outputs": [],
   "source": [
    "%quickref"
   ]
  },
  {
   "cell_type": "markdown",
   "metadata": {},
   "source": [
    "* **%alias**: Make shortcut for a command"
   ]
  },
  {
   "cell_type": "code",
   "execution_count": null,
   "metadata": {
    "collapsed": false
   },
   "outputs": [],
   "source": [
    "%alias d dir"
   ]
  },
  {
   "cell_type": "code",
   "execution_count": null,
   "metadata": {
    "collapsed": false
   },
   "outputs": [],
   "source": [
    "!dir"
   ]
  },
  {
   "cell_type": "markdown",
   "metadata": {},
   "source": [
    "* **%hist**: Show the history"
   ]
  },
  {
   "cell_type": "code",
   "execution_count": null,
   "metadata": {
    "collapsed": false,
    "scrolled": true
   },
   "outputs": [],
   "source": [
    "%hist"
   ]
  },
  {
   "cell_type": "markdown",
   "metadata": {},
   "source": [
    "* **%who**: Display all the variables defined in IPython"
   ]
  },
  {
   "cell_type": "code",
   "execution_count": null,
   "metadata": {
    "collapsed": false
   },
   "outputs": [],
   "source": [
    "%who"
   ]
  },
  {
   "cell_type": "markdown",
   "metadata": {},
   "source": [
    "* **%reset**: Delete all the variable / names defined in the interactive namespace \n",
    "\n",
    "When we works with the large data sets, the the Input and Output history can make your computer become freeze, so we need to care about free the space. Using **%reset** or **%xdel** can solve that problems"
   ]
  },
  {
   "cell_type": "code",
   "execution_count": null,
   "metadata": {
    "collapsed": false
   },
   "outputs": [],
   "source": [
    "%reset"
   ]
  },
  {
   "cell_type": "markdown",
   "metadata": {},
   "source": [
    "## Qt-based Rich GUI Console"
   ]
  },
  {
   "cell_type": "markdown",
   "metadata": {},
   "source": [
    "### Runing:\n",
    "```python \n",
    "ipython qtconsole --pylab=inline \n",
    "```"
   ]
  },
  {
   "cell_type": "markdown",
   "metadata": {},
   "source": [
    "### Describe:\n",
    "The Qt console can launch multiple IPython processes in tabs, enabling you to switch between tasks. It can also share a process with the IPython HTML Notebook applica-tion"
   ]
  },
  {
   "cell_type": "markdown",
   "metadata": {},
   "source": [
    "## Examples"
   ]
  },
  {
   "cell_type": "markdown",
   "metadata": {},
   "source": [
    "* show image\n",
    "```python\n",
    "import matplotlib.pyplot as plt\n",
    "img = plt.imread('/home/khanhlq/Pictures/hello_world.png')\n",
    "plt.imshow(img)\n",
    "plt.show()\n",
    "```"
   ]
  },
  {
   "cell_type": "markdown",
   "metadata": {},
   "source": [
    "* show plot\n",
    "```python\n",
    "import numpy as np\n",
    "plt.plot(np.random.randn(1000).cumsum())\n",
    "plt.show()\n",
    "```"
   ]
  },
  {
   "cell_type": "markdown",
   "metadata": {},
   "source": [
    "## Matplotlib Integration and Pylab Mode\n",
    "IPthon can run samelessly with the GUI. But, regular Python shell cannot do that "
   ]
  },
  {
   "cell_type": "markdown",
   "metadata": {},
   "source": [
    "## Using the Command History\n",
    "IPython maintains a small on-disk database containing the text of each command that you execute. This serves various purposes:\n",
    "* Searching, completing, and executing previously-executed commands with mini-mal typing\n",
    "\n",
    "    Use Ctr-R to search the old command.\n",
    "    \n",
    "\n",
    "* Persisting the command history between sessions.\n",
    "    \n",
    "    * Use **_iX** to show Input variable in line X\n",
    "    * Use **_X** to show Output in the line X\n",
    "\n",
    "\n"
   ]
  },
  {
   "cell_type": "code",
   "execution_count": 51,
   "metadata": {
    "collapsed": false
   },
   "outputs": [
    {
     "ename": "NameError",
     "evalue": "name '_i3' is not defined",
     "output_type": "error",
     "traceback": [
      "\u001b[0;31m---------------------------------------------------------------------------\u001b[0m",
      "\u001b[0;31mNameError\u001b[0m                                 Traceback (most recent call last)",
      "\u001b[0;32m<ipython-input-51-e31825b858e1>\u001b[0m in \u001b[0;36m<module>\u001b[0;34m()\u001b[0m\n\u001b[0;32m----> 1\u001b[0;31m \u001b[0m_i3\u001b[0m\u001b[1;33m\u001b[0m\u001b[0m\n\u001b[0m",
      "\u001b[0;31mNameError\u001b[0m: name '_i3' is not defined"
     ]
    }
   ],
   "source": [
    "_i3"
   ]
  },
  {
   "cell_type": "code",
   "execution_count": null,
   "metadata": {
    "collapsed": false
   },
   "outputs": [],
   "source": [
    "_4"
   ]
  },
  {
   "cell_type": "markdown",
   "metadata": {},
   "source": [
    "* Logging the input/output history to a file"
   ]
  },
  {
   "cell_type": "code",
   "execution_count": 52,
   "metadata": {
    "collapsed": false
   },
   "outputs": [
    {
     "name": "stdout",
     "output_type": "stream",
     "text": [
      "Activating auto-logging. Current session state plus future input saved.\n",
      "Filename       : ipython_log.py\n",
      "Mode           : rotate\n",
      "Output logging : False\n",
      "Raw input log  : False\n",
      "Timestamping   : False\n",
      "State          : active\n"
     ]
    }
   ],
   "source": [
    "%logstart"
   ]
  },
  {
   "cell_type": "markdown",
   "metadata": {},
   "source": [
    "## Interacting with the Operating System"
   ]
  },
  {
   "cell_type": "code",
   "execution_count": null,
   "metadata": {
    "collapsed": false
   },
   "outputs": [],
   "source": [
    "ls"
   ]
  },
  {
   "cell_type": "code",
   "execution_count": null,
   "metadata": {
    "collapsed": false
   },
   "outputs": [],
   "source": [
    "pwd"
   ]
  },
  {
   "cell_type": "code",
   "execution_count": 53,
   "metadata": {
    "collapsed": false
   },
   "outputs": [
    {
     "data": {
      "text/plain": [
       "[\"'ifconfig' is not recognized as an internal or external command,\",\n",
       " 'operable program or batch file.']"
      ]
     },
     "execution_count": 53,
     "metadata": {},
     "output_type": "execute_result"
    }
   ],
   "source": [
    "ip_info = !ifconfig | grep \"inet \"\n",
    "ip_info"
   ]
  },
  {
   "cell_type": "markdown",
   "metadata": {},
   "source": [
    "Using \"!\" sign to interactive with the shell"
   ]
  },
  {
   "cell_type": "code",
   "execution_count": null,
   "metadata": {
    "collapsed": false
   },
   "outputs": [],
   "source": [
    "!touch a.txt"
   ]
  },
  {
   "cell_type": "code",
   "execution_count": null,
   "metadata": {
    "collapsed": false
   },
   "outputs": [],
   "source": [
    "!rm -rf a.txt"
   ]
  },
  {
   "cell_type": "code",
   "execution_count": null,
   "metadata": {
    "collapsed": true
   },
   "outputs": [],
   "source": []
  }
 ],
 "metadata": {
  "anaconda-cloud": {},
  "kernelspec": {
   "display_name": "Python [conda root]",
   "language": "python",
   "name": "conda-root-py"
  },
  "language_info": {
   "codemirror_mode": {
    "name": "ipython",
    "version": 2
   },
   "file_extension": ".py",
   "mimetype": "text/x-python",
   "name": "python",
   "nbconvert_exporter": "python",
   "pygments_lexer": "ipython2",
   "version": "2.7.12"
  }
 },
 "nbformat": 4,
 "nbformat_minor": 1
}
