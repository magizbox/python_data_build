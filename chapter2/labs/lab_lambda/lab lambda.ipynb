{
 "cells": [
  {
   "cell_type": "code",
   "execution_count": 1,
   "metadata": {
    "collapsed": true
   },
   "outputs": [],
   "source": [
    "x = lambda i: i * 2"
   ]
  },
  {
   "cell_type": "code",
   "execution_count": 2,
   "metadata": {
    "collapsed": false
   },
   "outputs": [
    {
     "data": {
      "text/plain": [
       "4"
      ]
     },
     "execution_count": 2,
     "metadata": {},
     "output_type": "execute_result"
    }
   ],
   "source": [
    "x(2)"
   ]
  },
  {
   "cell_type": "code",
   "execution_count": 3,
   "metadata": {
    "collapsed": false
   },
   "outputs": [
    {
     "data": {
      "text/plain": [
       "6"
      ]
     },
     "execution_count": 3,
     "metadata": {},
     "output_type": "execute_result"
    }
   ],
   "source": [
    "x(3)"
   ]
  },
  {
   "cell_type": "code",
   "execution_count": 4,
   "metadata": {
    "collapsed": true
   },
   "outputs": [],
   "source": [
    "def x(i):\n",
    "    return i * 2"
   ]
  },
  {
   "cell_type": "code",
   "execution_count": 5,
   "metadata": {
    "collapsed": false
   },
   "outputs": [
    {
     "data": {
      "text/plain": [
       "4"
      ]
     },
     "execution_count": 5,
     "metadata": {},
     "output_type": "execute_result"
    }
   ],
   "source": [
    "x(2)"
   ]
  },
  {
   "cell_type": "code",
   "execution_count": 6,
   "metadata": {
    "collapsed": false
   },
   "outputs": [
    {
     "data": {
      "text/plain": [
       "6"
      ]
     },
     "execution_count": 6,
     "metadata": {},
     "output_type": "execute_result"
    }
   ],
   "source": [
    "x(3)"
   ]
  },
  {
   "cell_type": "code",
   "execution_count": 7,
   "metadata": {
    "collapsed": true
   },
   "outputs": [],
   "source": [
    "# anonymous function: javascript"
   ]
  },
  {
   "cell_type": "code",
   "execution_count": 11,
   "metadata": {
    "collapsed": false
   },
   "outputs": [
    {
     "data": {
      "text/plain": [
       "[2, 4, 6]"
      ]
     },
     "execution_count": 11,
     "metadata": {},
     "output_type": "execute_result"
    }
   ],
   "source": [
    "a = [1, 2, 3]\n",
    "[i * 2 for i in a]"
   ]
  },
  {
   "cell_type": "code",
   "execution_count": 12,
   "metadata": {
    "collapsed": true
   },
   "outputs": [],
   "source": [
    "power = lambda x: x ** 5"
   ]
  },
  {
   "cell_type": "code",
   "execution_count": 17,
   "metadata": {
    "collapsed": false
   },
   "outputs": [
    {
     "data": {
      "text/plain": [
       "[1, 32, 243]"
      ]
     },
     "execution_count": 17,
     "metadata": {},
     "output_type": "execute_result"
    }
   ],
   "source": [
    "a = [1, 2, 3]\n",
    "[power(i) for i in a]"
   ]
  },
  {
   "cell_type": "markdown",
   "metadata": {},
   "source": [
    "## Map, Filter, Reduce"
   ]
  },
  {
   "cell_type": "code",
   "execution_count": 22,
   "metadata": {
    "collapsed": false
   },
   "outputs": [
    {
     "data": {
      "text/plain": [
       "[2, 4, 6]"
      ]
     },
     "execution_count": 22,
     "metadata": {},
     "output_type": "execute_result"
    }
   ],
   "source": [
    "a = [1, 2, 3]\n",
    "map(lambda x: x * 2, a)"
   ]
  },
  {
   "cell_type": "code",
   "execution_count": 25,
   "metadata": {
    "collapsed": false
   },
   "outputs": [
    {
     "data": {
      "text/plain": [
       "[2]"
      ]
     },
     "execution_count": 25,
     "metadata": {},
     "output_type": "execute_result"
    }
   ],
   "source": [
    "a = [1, 2, 3]\n",
    "filter(lambda x: x % 2 == 0, a)"
   ]
  },
  {
   "cell_type": "code",
   "execution_count": 27,
   "metadata": {
    "collapsed": false
   },
   "outputs": [
    {
     "data": {
      "text/plain": [
       "6"
      ]
     },
     "execution_count": 27,
     "metadata": {},
     "output_type": "execute_result"
    }
   ],
   "source": [
    "a = [1, 2, 3]\n",
    "reduce(lambda x, y: x + y, a)"
   ]
  },
  {
   "cell_type": "code",
   "execution_count": 87,
   "metadata": {
    "collapsed": false
   },
   "outputs": [
    {
     "name": "stdout",
     "output_type": "stream",
     "text": [
      "các , 16\n",
      "mỹ , 15\n",
      "sứ , 15\n",
      "tổng , 15\n",
      "thống , 12\n",
      "của , 11\n",
      "đại , 11\n",
      "nhiệm , 11\n",
      "nước , 10\n",
      "trump , 9\n",
      "chức , 8\n",
      "và , 7\n",
      "cầu , 7\n",
      "là , 7\n",
      "tại , 7\n",
      "ở , 6\n",
      "với , 6\n",
      "sẽ , 6\n",
      "những , 6\n",
      "yêu , 6\n",
      "được , 6\n",
      "có , 6\n",
      "ngày , 6\n",
      "nhậm , 5\n",
      "trong , 5\n",
      "kỳ , 5\n",
      "tiếp , 5\n",
      "chỉ , 5\n",
      "ông , 5\n",
      "Đại , 5\n",
      "công , 5\n",
      "không , 5\n",
      "vẫn , 5\n",
      "viên , 4\n",
      "theo , 4\n",
      "bị , 4\n",
      "donald , 4\n",
      "bổ , 4\n",
      "tục , 4\n",
      "tác , 4\n",
      "quyền , 4\n",
      "rời , 4\n",
      "nhà , 4\n",
      "chính , 4\n",
      "khi , 4\n",
      "đã , 4\n",
      "sở , 4\n",
      "thời , 3\n",
      "do , 3\n",
      "trên , 3\n",
      "như , 3\n",
      "đối , 3\n",
      "thường , 3\n",
      "phát , 3\n",
      "giao , 3\n",
      "từ , 3\n",
      "việc , 3\n",
      "việt , 3\n",
      "tân , 3\n",
      "ngoại , 3\n",
      "quan , 3\n",
      "obama , 3\n",
      "sự , 3\n",
      "nam , 3\n",
      "dẫn , 3\n",
      "trước , 3\n",
      "trưa , 2\n",
      "getty) , 2\n",
      "trí , 2\n",
      "thống. , 2\n",
      "viện , 2\n",
      "đó, , 2\n",
      "hệ , 2\n",
      "đầy , 2\n",
      "vụ , 2\n",
      "nhân , 2\n",
      "để , 2\n",
      "đủ , 2\n",
      "mới , 2\n",
      "ra , 2\n",
      "ngôn , 2\n",
      "tới , 2\n",
      "thế , 2\n",
      "20/1 , 2\n",
      ">> , 2\n",
      "giới , 2\n",
      "vì , 2\n",
      "trống , 2\n",
      "thải , 2\n",
      "định , 2\n",
      "nhiều , 2\n",
      "mối , 2\n",
      "một , 2\n",
      "lễ , 2\n",
      "ngoài , 2\n",
      "(Ảnh: , 2\n",
      "khoảng , 2\n",
      "chuyên , 2\n",
      "cả , 2\n",
      "hiện , 2\n",
      "sau , 2\n",
      "nội , 2\n",
      "vào , 2\n",
      "lời , 2\n",
      "ted , 2\n",
      "sa , 2\n",
      "lực , 1\n",
      "lập , 1\n",
      "thân , 1\n",
      "đang , 1\n",
      "nhiên, , 1\n",
      "tưởng , 1\n",
      "khẳng , 1\n",
      "lưỡng , 1\n",
      "đồng , 1\n",
      "hiện. , 1\n",
      "kể , 1\n",
      "vị , 1\n",
      "tình , 1\n",
      "tháng , 1\n",
      "cận. , 1\n",
      "gũi , 1\n",
      "dân , 1\n",
      "tôi , 1\n",
      "ảnh , 1\n",
      "diễn , 1\n",
      "mặc , 1\n",
      "osius. , 1\n",
      "barack , 1\n",
      "nhận , 1\n",
      "trì , 1\n",
      "dù , 1\n",
      "thống, , 1\n",
      "gần , 1\n",
      "lâu , 1\n",
      "gian , 1\n",
      "“trường , 1\n",
      "anh, , 1\n",
      "xác , 1\n",
      "washington , 1\n",
      "cách , 1\n",
      "về , 1\n",
      "còn , 1\n",
      "bao , 1\n",
      "đặc , 1\n",
      "chưa , 1\n",
      "biết , 1\n",
      "trị. , 1\n",
      "cảm , 1\n",
      "trao , 1\n",
      "kiến , 1\n",
      "hà , 1\n",
      "cơ , 1\n",
      "này. , 1\n",
      "email , 1\n",
      "quán , 1\n",
      "gì. , 1\n",
      "bỏ , 1\n",
      "tuyên , 1\n",
      "trợ , 1\n",
      "Đây , 1\n",
      "hoãn , 1\n",
      "trình , 1\n",
      "bởi , 1\n",
      "liên , 1\n",
      "tại. , 1\n",
      "80 , 1\n",
      "điểm , 1\n",
      "nước, , 1\n",
      "trị , 1\n",
      "ngoài, , 1\n",
      "thệ , 1\n",
      "trump. , 1\n",
      "6/1, , 1\n",
      "ngũ , 1\n",
      "các. , 1\n",
      "cũ , 1\n",
      "nắm , 1\n",
      "lệnh , 1\n",
      "thị , 1\n",
      "cựu , 1\n",
      "new , 1\n",
      "đi , 1\n",
      "tuy , 1\n",
      "“khoảng , 1\n",
      "quy , 1\n",
      "bất , 1\n",
      "này , 1\n",
      "osius , 1\n",
      "qua , 1\n",
      "york , 1\n",
      "vừa , 1\n",
      "tỷ , 1\n",
      "Đạt , 1\n",
      "họ , 1\n",
      "nào , 1\n",
      "dự , 1\n",
      "phần , 1\n",
      "kéo , 1\n",
      "mãn , 1\n",
      "nhờ , 1\n",
      "hôm , 1\n",
      "trống” , 1\n",
      "lấp , 1\n",
      "tư , 1\n",
      "vốn , 1\n",
      "con , 1\n",
      "nghiệp , 1\n",
      "dụng , 1\n",
      "23/12/2016 , 1\n",
      "áp , 1\n",
      "người , 1\n",
      "điều , 1\n",
      "qua, , 1\n",
      "kênh , 1\n",
      "times, , 1\n",
      "thái , 1\n",
      "canada , 1\n",
      "toàn , 1\n",
      "bấy , 1\n",
      "mình , 1\n",
      "cho , 1\n",
      "đổi , 1\n",
      "gia , 1\n",
      "nhưng , 1\n",
      "xảy , 1\n",
      "sắp , 1\n",
      "phái , 1\n",
      "nhiệm, , 1\n",
      "20/1, , 1\n",
      "tới, , 1\n",
      "trắng. , 1\n",
      "mỹ, , 1\n",
      "gồm , 1\n",
      "lớn , 1\n",
      "kết , 1\n",
      "phục , 1\n",
      "trích , 1\n",
      "Đội , 1\n",
      "hưởng , 1\n",
      "hạn , 1\n",
      "nghiệp, , 1\n",
      "minh , 1\n",
      "mất , 1\n",
      "phóng , 1\n",
      "mỹ. , 1\n",
      "ngay , 1\n",
      "thrower , 1\n",
      "bình , 1\n",
      "sứ”, , 1\n",
      "tài , 1\n",
      "chuyển , 1\n",
      "thành , 1\n",
      "thực , 1\n",
      "nhỏ. , 1\n",
      "dài , 1\n",
      "số , 1\n",
      "giữa , 1\n",
      "lệ” , 1\n",
      "tin , 1\n",
      "Động , 1\n",
      "trạng , 1\n",
      "nay , 1\n",
      "nối , 1\n",
      "phú , 1\n",
      "tức , 1\n",
      "trực , 1\n",
      "thượng , 1\n",
      "diện , 1\n",
      "lên , 1\n",
      "cũng , 1\n",
      "pope , 1\n",
      "“yêu , 1\n",
      "từng , 1\n",
      "lý , 1\n",
      "hợp , 1\n",
      "phải , 1\n",
      "Đức, , 1\n",
      "nhạy , 1\n",
      "lạc , 1\n",
      "independent, , 1\n"
     ]
    }
   ],
   "source": [
    "# demo reduce: word counts\n",
    "text = open(\"news.txt\", \"r\").read()\n",
    "text = text.lower()\n",
    "tokens = text.split()\n",
    "tokens = [{token: 1} for token in tokens]\n",
    "def wordcount(x, y):\n",
    "    key = y.keys()[0]\n",
    "    if key in x:\n",
    "        x[key] += 1\n",
    "    else:\n",
    "        x[key] = 1\n",
    "    return x\n",
    "word_count = reduce(wordcount, tokens)\n",
    "ordered_word_count = OrderedDict(sorted(word_count.items(), key=lambda kv: kv[1], reverse=True))\n",
    "for token in ordered_word_count:\n",
    "    print token, \",\", ordered_word_count[token]"
   ]
  }
 ],
 "metadata": {
  "kernelspec": {
   "display_name": "Python [conda root]",
   "language": "python",
   "name": "conda-root-py"
  },
  "language_info": {
   "codemirror_mode": {
    "name": "ipython",
    "version": 2
   },
   "file_extension": ".py",
   "mimetype": "text/x-python",
   "name": "python",
   "nbconvert_exporter": "python",
   "pygments_lexer": "ipython2",
   "version": "2.7.12"
  }
 },
 "nbformat": 4,
 "nbformat_minor": 1
}
