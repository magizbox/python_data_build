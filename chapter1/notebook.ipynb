{
 "cells": [
  {
   "cell_type": "code",
   "execution_count": 1,
   "metadata": {
    "collapsed": true
   },
   "outputs": [],
   "source": [
    "import pandas"
   ]
  },
  {
   "cell_type": "markdown",
   "metadata": {},
   "source": [
    "## NumPy\n",
    "\n",
    "NumPy, short for Numerical Python, is the foundational package for scientific com-puting in Python. The majority of this book will be based on NumPy and libraries builton top of NumPy.\n",
    "\n",
    "It provides, among other things:\n",
    "\n",
    "* A fast and efficient multidimensional array object ndarray\n",
    "* Functions for performing element-wise computations with arrays or mathematicaloperations between arrays\n",
    "* Tools for reading and writing array-based data sets to disk\n",
    "* Linear algebra operations, Fourier transform, and random number generation\n",
    "* Tools for integrating connecting C, C++, and Fortran code to Python\n",
    "\n",
    "Beyond the fast array-processing capabilities that NumPy adds to Python, one of itsprimary purposes with regards to data analysis is as the primary container for data tobe passed between algorithms. For numerical data, NumPy arrays are a much moreefficient way of storing and manipulating data than the other built-in Python datastructures. Also, libraries written in a lower-level language, such as C or Fortran, canoperate on the data stored in a NumPy array without copying any data."
   ]
  },
  {
   "cell_type": "code",
   "execution_count": 9,
   "metadata": {
    "collapsed": false
   },
   "outputs": [
    {
     "data": {
      "text/plain": [
       "array([ 25.3,  24.8,  26.9,  23.9])"
      ]
     },
     "execution_count": 9,
     "metadata": {},
     "output_type": "execute_result"
    }
   ],
   "source": [
    "import numpy as np\n",
    "cvalues = [25.3, 24.8, 26.9, 23.9]\n",
    "C = np.array(cvalues)\n",
    "C"
   ]
  },
  {
   "cell_type": "markdown",
   "metadata": {},
   "source": [
    "## pandas\n",
    "\n",
    "pandas provides rich data structures and functions designed to make working withstructured data fast, easy, and expressive. It is, as you will see, one of the critical in-gredients enabling Python to be a powerful and productive data analysis environment.The primary object in pandas that will be used in this book is the DataFrame, a two-dimensional tabular, column-oriented data structure with both row and column labels:"
   ]
  },
  {
   "cell_type": "markdown",
   "metadata": {},
   "source": [
    "pandas combines the high performance array-computing features of NumPy with theflexible data manipulation capabilities of spreadsheets and relational databases (suchas SQL). It provides sophisticated indexing functionality to make it easy to reshape,slice and dice, perform aggregations, and select subsets of data. pandas is the primarytool that we will use in this book.\n",
    "\n",
    "For financial users, pandas features rich, high-performance time series functionalityand tools well-suited for working with financial data. In fact, I initially designed pandasas an ideal tool for financial data analysis applications.For users of the R language for statistical computing, the DataFrame name will befamiliar, as the object was named after the similar R data.frame object. They are notthe same, however; the functionality provided by data.frame in R is essentially a strictsubset of that provided by the pandas DataFrame. While this is a book about Python, Iwill occasionally draw comparisons with R as it is one of the most widely-used opensource data analysis environments and will be familiar to many readers.The pandas name itself is derived from panel data, an econometrics term for multidi-mensional structured data sets, and Python data analysis itself."
   ]
  },
  {
   "cell_type": "markdown",
   "metadata": {},
   "source": [
    "## matplotlib\n",
    "\n",
    "matplotlib is the most popular Python library for producing plots and other 2D datavisualizations. It was originally created by John D. Hunter (JDH) and is now maintainedby a large team of developers. It is well-suited for creating plots suitable for publication.It integrates well with IPython (see below), thus providing a comfortable interactiveenvironment for plotting and exploring data. The plots are also interactive; you canzoom in on a section of the plot and pan around the plot using the toolbar in the plotwindow."
   ]
  },
  {
   "cell_type": "markdown",
   "metadata": {},
   "source": [
    "## IPython\n",
    "\n",
    "IPython is the component in the standard scientific Python toolset that ties everythingtogether. It provides a robust and productive environment for interactive and explor-atory computing. It is an enhanced Python shell designed to accelerate the writing,testing, and debugging of Python code. It is particularly useful for interactively workingwith data and visualizing data with matplotlib. IPython is usually involved with themajority of my Python work, including running, debugging, and testing code.\n",
    "\n",
    "Aside from the standard terminal-based IPython shell, the project also provides\n",
    "\n",
    "* A Mathematica-like HTML notebook for connecting to IPython through a webbrowser (more on this later)\n",
    "* A Qt framework-based GUI console with inline plotting, multiline editing, andsyntax highlighting\n",
    "* An infrastructure for interactive parallel and distributed computingI will devote a chapter to IPython and how to get the most out of its features. I stronglyrecommend using it while working through this book."
   ]
  },
  {
   "cell_type": "markdown",
   "metadata": {},
   "source": [
    "## SciPy\n",
    "\n",
    "SciPy is a collection of packages addressing a number of different standard problemdomains in scientific computing. Here is a sampling of the packages included:\n",
    "\n",
    "* scipy.integrate: numerical integration routines and differential equation solvers\n",
    "* scipy.linalg: linear algebra routines and matrix decompositions extending be-yond those provided in numpy.linalg.\n",
    "* scipy.optimize: function optimizers (minimizers) and root finding algorithms\n",
    "* scipy.signal: signal processing tools\n",
    "* scipy.sparse: sparse matrices and sparse linear system solvers\n",
    "* scipy.special: wrapper around SPECFUN, a Fortran library implementing manycommon mathematical functions, such as the gamma function\n",
    "* scipy.stats: standard continuous and discrete probability distributions (densityfunctions, samplers, continuous distribution functions), various statistical tests,and more descriptive statistics\n",
    "* scipy.weave: tool for using inline C++ code to accelerate array computationsTogether NumPy and SciPy form a reasonably complete computational replacementfor much of MATLAB along with some of its add-on toolboxes."
   ]
  },
  {
   "cell_type": "code",
   "execution_count": null,
   "metadata": {
    "collapsed": true
   },
   "outputs": [],
   "source": []
  }
 ],
 "metadata": {
  "anaconda-cloud": {},
  "kernelspec": {
   "display_name": "Python [default]",
   "language": "python",
   "name": "python2"
  },
  "language_info": {
   "codemirror_mode": {
    "name": "ipython",
    "version": 2
   },
   "file_extension": ".py",
   "mimetype": "text/x-python",
   "name": "python",
   "nbconvert_exporter": "python",
   "pygments_lexer": "ipython2",
   "version": "2.7.12"
  }
 },
 "nbformat": 4,
 "nbformat_minor": 1
}
